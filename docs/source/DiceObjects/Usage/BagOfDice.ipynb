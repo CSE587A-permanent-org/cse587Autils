{
 "cells": [
  {
   "attachments": {},
   "cell_type": "markdown",
   "metadata": {},
   "source": [
    "# BagOfDice Usage\n",
    "\n",
    "`BagOfDice` is an object meant to model a bag of *n* dice, each with its own \n",
    "face probabilities.\n",
    "\n",
    "`BagOfDice` provides a number of functions intended to make the assignments \n",
    "in which they are used less error prone and hopefully slightly easier so the \n",
    "student can focus on the algorithm rather than the details of sorting the \n",
    "`BagOfDice` to make the comparisons more consistent, for instance."
   ]
  },
  {
   "cell_type": "markdown",
   "metadata": {},
   "source": [
    "## BagOfDice Instantiation\n",
    "\n",
    "It is possible to instantiate an empty bag and then fill the attributes, \n",
    "but more likely you will want to provide die priors and Die objects to the \n",
    "constructor. Note that the length of the die priors list must equal the length \n",
    "of the Die Object list. Order matters -- the first die prior corresponds to \n",
    "the first Die in the list."
   ]
  },
  {
   "cell_type": "code",
   "execution_count": 1,
   "metadata": {},
   "outputs": [],
   "source": [
    "from cse587Autils.DiceObjects.Die import Die\n",
    "from cse587Autils.DiceObjects.BagOfDice import BagOfDice\n",
    "\n",
    "fair_die = Die([1/3]*3)\n",
    "biased_die = Die(face_probs=[0.1, 0.2, 0.7])\n",
    "\n",
    "bag = BagOfDice([0.25, 0.75],[fair_die, biased_die])"
   ]
  },
  {
   "cell_type": "markdown",
   "metadata": {},
   "source": [
    "## BagOfDice Iteration\n",
    "\n",
    "You can iterate over a `BagOfDice` object and unpack the `die_prior` and `Die` \n",
    "object."
   ]
  },
  {
   "cell_type": "code",
   "execution_count": 2,
   "metadata": {},
   "outputs": [
    {
     "name": "stdout",
     "output_type": "stream",
     "text": [
      "die prior: 0.25\n",
      "die object: Die([0.3333333333333333, 0.3333333333333333, 0.3333333333333333])\n",
      "die prior: 0.75\n",
      "die object: Die([0.1, 0.2, 0.7])\n"
     ]
    }
   ],
   "source": [
    "# iterating over the bag returns a tuple of the die prior and the die object\n",
    "# this can be 'unpacked' into separate variables using the syntax below\n",
    "for die in bag:\n",
    "    die_prior, die = die\n",
    "    print(f'die prior: {die_prior}\\ndie object: {die}')"
   ]
  },
  {
   "attachments": {},
   "cell_type": "markdown",
   "metadata": {},
   "source": [
    "## BagOfDice Additional Operations\n",
    "\n",
    "BagOfDice supports the following operations:"
   ]
  },
  {
   "cell_type": "code",
   "execution_count": 3,
   "metadata": {},
   "outputs": [
    {
     "name": "stdout",
     "output_type": "stream",
     "text": [
      "len() returns the number of dice in the bag: 2\n",
      "using the [] operator returns a (die_prior, Die object) based on the order of construction: (0.25, Die([0.3333333333333333, 0.3333333333333333, 0.3333333333333333]))\n",
      "accessing the die priors: [0.25, 0.75]\n",
      "accessing the Die objects: [Die([0.3333333333333333, 0.3333333333333333, 0.3333333333333333]), Die([0.1, 0.2, 0.7])]\n",
      "before sorting: BagOfDice(die_priors=[0.25, 0.75], dice=[Die([0.3333333333333333, 0.3333333333333333, 0.3333333333333333]), Die([0.1, 0.2, 0.7])])\n",
      "after sorting: BagOfDice(die_priors=[0.25, 0.75], dice=[Die([0.3333333333333333, 0.3333333333333333, 0.3333333333333333]), Die([0.1, 0.2, 0.7])])\n",
      "bag difference: 1.4333333333333336\n",
      "[array([ 3,  4, 13]), array([ 3,  3, 14])]\n"
     ]
    }
   ],
   "source": [
    "# len() returns the number of dice in the bag\n",
    "print(f'len() returns the number of dice in the bag: {len(bag)}')\n",
    "\n",
    "# we can access the (die_prior, Die object) using the [] operator\n",
    "print(f'using the [] operator returns a (die_prior, Die object) '\n",
    "      f'based on the order of construction: {bag[0]}')\n",
    "\n",
    "# there are getters (and setters) for the die_priors and dice\n",
    "print(f'accessing the die priors: {bag.die_priors}')\n",
    "print(f'accessing the Die objects: {bag.dice}')\n",
    "\n",
    "# we can sort the bag by the die_prior -- this is useful for comparing two \n",
    "# bags of dice\n",
    "print(f'before sorting: {bag}')\n",
    "bag.sort()\n",
    "print(f'after sorting: {bag}')\n",
    "\n",
    "# And there is a - operator defined which returns the sum of the absolute\n",
    "# difference between the die_priors and corresponding Die objects of two bags\n",
    "# of dice. This is useful for comparing two bags of dice (which are really \n",
    "# just collection of parameters) to determine whether the accuracy threshold \n",
    "# has been met in the EM algorithm\n",
    "bag2 = BagOfDice([0.3, 0.7], \n",
    "                 [Die([0.9, 0.1, 0.0]), Die([0.1, 0.1, 0.8])])\n",
    "print(f'bag difference: {bag - bag2}')\n",
    "\n",
    "# we can also use the BagOfDice to generate sample data. For example, to \n",
    "# produce a sample by drawing a die, with replacement, from the bag 100 times, \n",
    "# and rolling that die 20 times, we can use the draw() method.\n",
    "# The return value is a list of lists, where each inner list has been \n",
    "# aggregated by the number of times a given face was rolled. The inner list \n",
    "# length will always be equal to the number of faces of the longer die, with \n",
    "# those faces that were not rolled (either by chance or because they don't \n",
    "# exist on the die) being represented by a 0\n",
    "sample_data = [bag.draw(20) for _ in range(100)]\n",
    "print(sample_data[0:2])"
   ]
  }
 ],
 "metadata": {
  "kernelspec": {
   "display_name": ".venv",
   "language": "python",
   "name": "python3"
  },
  "language_info": {
   "codemirror_mode": {
    "name": "ipython",
    "version": 3
   },
   "file_extension": ".py",
   "mimetype": "text/x-python",
   "name": "python",
   "nbconvert_exporter": "python",
   "pygments_lexer": "ipython3",
   "version": "3.9.17"
  },
  "orig_nbformat": 4
 },
 "nbformat": 4,
 "nbformat_minor": 2
}
