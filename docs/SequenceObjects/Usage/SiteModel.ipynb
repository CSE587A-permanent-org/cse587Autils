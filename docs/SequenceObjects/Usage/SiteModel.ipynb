{
 "cells": [
  {
   "attachments": {},
   "cell_type": "markdown",
   "metadata": {},
   "source": [
    "# SiteModel Usage\n",
    "\n",
    "`SiteModel` is an object meant to store the parameters which are used to \n",
    "model a simplified version transcription factor binding site probability \n",
    "over a genome."
   ]
  },
  {
   "cell_type": "markdown",
   "metadata": {},
   "source": [
    "## SiteModel Instantiation\n",
    "\n",
    "It is possible to instantiate an empty model. But, more often you will \n",
    "instantiate with parameters."
   ]
  },
  {
   "cell_type": "code",
   "execution_count": 1,
   "metadata": {},
   "outputs": [
    {
     "name": "stderr",
     "output_type": "stream",
     "text": [
      "2023-09-09 19:12:59,547 - cse587Autils.SequenceObjects.SiteModel - WARNING - Setting site_prior will also set background_prior to 1 - site_prior\n",
      "2023-09-09 19:12:59,548 - cse587Autils.SequenceObjects.SiteModel - WARNING - Setting site_prior will also set background_prior to 1 - site_prior\n",
      "2023-09-09 19:12:59,549 - cse587Autils.SequenceObjects.SiteModel - WARNING - Setting site_prior will also set background_prior to 1 - site_prior\n"
     ]
    },
    {
     "name": "stdout",
     "output_type": "stream",
     "text": [
      "0.8\n",
      "0.2\n",
      "2\n",
      "1.4\n",
      "1.4\n"
     ]
    }
   ],
   "source": [
    "from cse587Autils.SequenceObjects.SiteModel import SiteModel\n",
    "\n",
    "# instantiating an empty SiteModel\n",
    "sm = SiteModel()\n",
    "# you can then update attributes directly.\n",
    "# note that setting site_prior automatically updates background_prior and \n",
    "# vice versa.\n",
    "sm.site_prior = 0.2\n",
    "print(sm.background_prior)\n",
    "\n",
    "# or, you can instantiate a SiteModel with all the attributes\n",
    "site_prior = 0.8\n",
    "site_probs = [[0.1, 0.2, 0.3, 0.4], [0.4, 0.3, 0.2, 0.1]]\n",
    "background_probs = [0.25, 0.25, 0.25, 0.25]\n",
    "\n",
    "sm = SiteModel(site_prior, site_probs, background_probs)\n",
    "print(sm.background_prior)\n",
    "\n",
    "# you can also get the length of the binding site sequence which this SiteModel\n",
    "# represents\n",
    "print(len(sm))\n",
    "\n",
    "# Finally, there is a subtraction method which provides a reasonable way to \n",
    "# compare two SiteModels. It returns the sum of the absolute value of the\n",
    "# differences between the probs vectors plus the absolute difference between\n",
    "# the priors.\n",
    "other_sm = SiteModel(0.1, site_probs, background_probs)\n",
    "print(sm - other_sm)\n",
    "print(other_sm - sm)"
   ]
  }
 ],
 "metadata": {
  "kernelspec": {
   "display_name": ".venv",
   "language": "python",
   "name": "python3"
  },
  "language_info": {
   "codemirror_mode": {
    "name": "ipython",
    "version": 3
   },
   "file_extension": ".py",
   "mimetype": "text/x-python",
   "name": "python",
   "nbconvert_exporter": "python",
   "pygments_lexer": "ipython3",
   "version": "3.9.18"
  }
 },
 "nbformat": 4,
 "nbformat_minor": 2
}
